{
 "cells": [
  {
   "cell_type": "markdown",
   "metadata": {},
   "source": [
    "# Introducción"
   ]
  },
  {
   "cell_type": "markdown",
   "metadata": {},
   "source": [
    "En esta práctica vamos a estudiar el comportamiento de dos resistencias de diferentes valores y comprobaremos si ambas cumplen la ley de Ohm, con la cual podremos saber el comportamiento lineal del voltaje respecto la intensidad a resistencia constante. \n",
    "La ley de Ohm establece que existe proporcionalidad directa entre el voltaje y la intensidad de corriente que circula por un circuito. Las sustancias que obedecen la ley de Ohm se denominan conductores lineales, y las que no, conductores no lineales. \n",
    "\n",
    "Para entender la ley de Ohm se puede establecer esta fórmula:\n",
    "                                    \n",
    "$$ V=I\\cdot R $$\n",
    "\n",
    "Donde:\n",
    "\n",
    "•\tV es el voltaje medido en voltios (V).\n",
    "\n",
    "•\tI es la intensidad que circula por el circuito en Amperios (A).\n",
    "\n",
    "•\tR es la resistencia que ofrece el circuito medido en Ohmios (Ω)."
   ]
  },
  {
   "cell_type": "markdown",
   "metadata": {},
   "source": [
    "# Metodología"
   ]
  },
  {
   "cell_type": "markdown",
   "metadata": {},
   "source": [
    "Como primera tarea, para familiarizarse con el polímetro, vamos a calcular el valor experimental de cuatro resistencias utilizando el código de colores y un polímetro, obteniendo los siguientes valores, y con ellos su error, siendo estos valores:"
   ]
  },
  {
   "cell_type": "markdown",
   "metadata": {},
   "source": [
    "\n",
    "| Resistencias | Error (cod. colores) | Valor experimental| Error(polímetro) |       \n",
    "|:----------:|:--------------:|:-------:|:-------:|      \n",
    "|220Ω|      11Ω   | 217Ω  |1 Ω  |      \n",
    "| 3.3kΩ|      0.165kΩ  | 3.24kΩ | 0.01 kΩ  |\n",
    "| 10kΩ|     0.1kΩ    | 9.96kΩ   | 0.01 kΩ |\n",
    "| 2.2kΩ|    0.11kΩ    | 2.18kΩ  | 0.01kΩ   |\n",
    "\n",
    "                              "
   ]
  },
  {
   "cell_type": "markdown",
   "metadata": {},
   "source": [
    "Continuaremos calculando la dependencia de la intensidad con la tensión a resistencia constante, para unos valores de resistencia de 220Ω y 470Ω. Para ello, montaremos un circuito utilizando dicha resistencia, y haremos cambios en la tensión desde 1V hasta 10V usando una fuente de tensión variable y comprobando su valor con un polímetro. El circuito sigue el modelo del descrito en en el guión de prácticas.\n",
    "\n",
    "Se considerará que el error instrumental del polímetro será una unidad en la última cifra significativa de la medida (según indicado en la clase de prácticas)."
   ]
  },
  {
   "cell_type": "markdown",
   "metadata": {},
   "source": [
    "# Medidas experimentales"
   ]
  },
  {
   "cell_type": "markdown",
   "metadata": {},
   "source": [
    "Resistencia de 220 ohmios\n",
    "\n",
    "| Voltaje indicativo(V)| Voltaje aproximado(V) | Intensidad(mA) | Error V | Error I |       \n",
    "|:----------:|:--------------:|:-----:|:-------:|:-------:|      \n",
    "| 1         |0.990|      4.24    | 0.001  | 0.01  |      \n",
    "| 2         |1.992|      8.54    | 0.001  | 0.01  |\n",
    "| 3         | 2.98|     12.80    | 0.01   | 0.01  |\n",
    "| 4         | 3.99|     17.11    | 0.01   | 0.1   |\n",
    "| 5         | 4.99|      22.4    | 0.01   | 0.1   | \n",
    "| 6         |6.00|      26.9    | 0.01   | 0.1   | \n",
    "| 7         | 7.00|      31.4    | 0.01   | 0.1   |\n",
    "| 8         | 8.00|      35.9    | 0.01   | 0.1   |\n",
    "| 9         | 9.00|      40.4    | 0.01   | 0.1   |\n",
    "|10         | 10.0|      45.0    | 0.1    | 0.1   |\n",
    "                              "
   ]
  },
  {
   "cell_type": "markdown",
   "metadata": {},
   "source": [
    "Resistencia de 470 ohmios\n",
    "\n",
    "| Voltaje indicativo(V)| Voltaje aproximado(V) | Intensidad(mA) | Error V | Error I |       \n",
    "|:----------:|:-----------:|:--------------:|:-------:|:-------:|      \n",
    "| 1  |0.99|      1.745    | 0.01  | 0.001  |      \n",
    "| 2  |1.98|      4.14    | 0.01  | 0.01  |\n",
    "| 3  | 2.98|     6.24    | 0.01   | 0.01  |\n",
    "| 4  | 3.99|     8.34    | 0.01   | 0.01   |\n",
    "| 5  | 4.99|      10.42    | 0.01   | 0.01   | \n",
    "| 6  | 6.00|      12.53    | 0.01   | 0.01   | \n",
    "| 7  | 7.01|      14.63    | 0.01   | 0.01   |\n",
    "| 8  | 8.00|      16.71    | 0.01   | 0.01   |\n",
    "| 9  | 9.01|      18.81    | 0.01   | 0.01   |\n",
    "|10  | 10.01|      21.4    | 0.01    | 0.1   |"
   ]
  },
  {
   "cell_type": "markdown",
   "metadata": {},
   "source": [
    "A través de las tablas anteriores podemos comprobar que si hacemos la división de tensión entre intensidad (ley de Ohm), el valor de las resistencias para los distintos valores de la tensión e intensidad generalmente es mayor al valor nominal de la resistencia que utilizamos en el laboratorio (220 Ω y 470 Ω), ya que los conductores lineales que utilizamos para conectar la fuente de tensión variable y la resistencia también ofrecen una resistencia, que aunque es pequeña, se debe tener en cuenta."
   ]
  },
  {
   "cell_type": "markdown",
   "metadata": {},
   "source": [
    "En esta práctica hemos utilizado varias resistencias a las que hemos aplicado distintos voltajes (desde 1 a 10V con una frecuencia de 1V). Para ello hemos empleado una fuente de tensión, y construyendo el circuito descrito en el guión de prácticas, hemos introducido dos polímetros en el sistema que nos indiquen tanto el voltaje como la intensidad resultantes.\n",
    "\n",
    "\n",
    "En la columna del voltaje podemos observar dos voltajes diferentes, el de la izquierda corresponde al voltaje teórico  indicado en el mando de la fuente de tensión y el de la derecha el resultante de la medida del polímetro, al igual que la intensidad.\n",
    "\n",
    "El informe está escrito en un notebook de jupyter, ya que para representar y explicar los cálculos y procedimientos es una herramienta muy cómoda y eficiente."
   ]
  },
  {
   "cell_type": "markdown",
   "metadata": {},
   "source": [
    "#                         Cálculos realizados/resultados"
   ]
  },
  {
   "cell_type": "code",
   "execution_count": 90,
   "metadata": {},
   "outputs": [],
   "source": [
    "import numpy as np\n",
    "import matplotlib.pyplot as plt"
   ]
  },
  {
   "cell_type": "markdown",
   "metadata": {},
   "source": [
    "                         Resistencia de 220 Ω\n",
    "                        "
   ]
  },
  {
   "cell_type": "code",
   "execution_count": 76,
   "metadata": {},
   "outputs": [],
   "source": [
    "v220=np.array([0.990,1.992,2.98,3.99,4.99,6.00,7.00,8.00,9.00,10.0])\n",
    "i220=np.array([4.24,8.54,12.80,17.11,22.4,26.9,31.4,35.9,40.4,45.0])*10**-3 #Paso los mA de las medidas a A\n",
    "ev220=np.array([0.001,0.001,0.01,0.01,0.01,0.01,0.01,0.01,0.01,0.1])   #(correspondiendo con el sistema internacional)\n",
    "ei220=np.array([0.01,0.01,0.01,0.01,0.1,0.1,0.1,0.1,0.1,0.1])*10**-3 #Paso los mA de las medidas a A"
   ]
  },
  {
   "cell_type": "markdown",
   "metadata": {},
   "source": [
    "Si dividimos voltajes entre intensidades podemos comprobar la afirmación anterior de que el valor de la resistencia experimental resulta superior al nominal."
   ]
  },
  {
   "cell_type": "code",
   "execution_count": 91,
   "metadata": {},
   "outputs": [
    {
     "data": {
      "text/plain": [
       "array([233.49056604, 233.25526932, 232.8125    , 233.19696084,\n",
       "       222.76785714, 223.04832714, 222.92993631, 222.84122563,\n",
       "       222.77227723, 222.22222222])"
      ]
     },
     "execution_count": 91,
     "metadata": {},
     "output_type": "execute_result"
    }
   ],
   "source": [
    "v220/i220"
   ]
  },
  {
   "cell_type": "markdown",
   "metadata": {},
   "source": [
    "                          Resistencia de 470Ω"
   ]
  },
  {
   "cell_type": "code",
   "execution_count": 82,
   "metadata": {},
   "outputs": [],
   "source": [
    "v470=np.array([0.99,1.98,2.98,3.99,4.99,6.00,7.01,8.00,9.01,10.01])\n",
    "i470=np.array([1.745,4.14,6.24,8.34,10.42,12.53,14.63,16.71,18.81,21.4])*10**-3 #Paso los mA de las medidas a A\n",
    "ev470=np.array([0.01,0.01,0.01,0.01,0.01,0.01,0.01,0.01,0.01,0.01])   #(correspondiendo con el sistema internacional)\n",
    "ei470=np.array([0.001,0.01,0.01,0.01,0.01,0.01,0.01,0.01,0.01,0.1])*10**-3 #Paso los mA de las medidas a A"
   ]
  },
  {
   "cell_type": "markdown",
   "metadata": {},
   "source": [
    "Empleo la librería numpy e introduzco los valores medidos de voltaje, intensidad y sus correspondientes errores para \n",
    "poder trabajar fácilmente con el cojunto de datos. También, para representar las gráficas (también hechas a mano al final del informe), hemos utilizado la librería matplotlib de python."
   ]
  },
  {
   "cell_type": "markdown",
   "metadata": {},
   "source": [
    "# Gráficas"
   ]
  },
  {
   "cell_type": "code",
   "execution_count": 84,
   "metadata": {},
   "outputs": [
    {
     "data": {
      "image/png": "[encoded data removed]",
      "text/plain": [
       "<Figure size 432x288 with 1 Axes>"
      ]
     },
     "metadata": {
      "needs_background": "light"
     },
     "output_type": "display_data"
    },
    {
     "data": {
      "image/png": "[encoded data removed]",
      "text/plain": [
       "<Figure size 432x288 with 1 Axes>"
      ]
     },
     "metadata": {
      "needs_background": "light"
     },
     "output_type": "display_data"
    }
   ],
   "source": [
    "plt.scatter(v220,i220) #Gráfica de puntos\n",
    "plt.xlabel(\"Voltaje (V)\") #Leyendas de ambos ejes cartesianos\n",
    "plt.ylabel(\"Intensidad (A)\")\n",
    "plt.grid() #Cuadrícula\n",
    "plt.title(\"Resistencia de 220Ω\")\n",
    "plt.show()\n",
    "\n",
    "plt.scatter(v470,i470) #Gráfica de puntos\n",
    "plt.xlabel(\"Voltaje (V)\") #Leyendas de ambos ejes cartesianos\n",
    "plt.ylabel(\"Intensidad (A)\")\n",
    "plt.grid() #Cuadrícula\n",
    "plt.title(\"Resistencia de 470Ω\")\n",
    "plt.show()"
   ]
  },
  {
   "cell_type": "markdown",
   "metadata": {},
   "source": [
    "# Ajuste por mínimos cuadrados"
   ]
  },
  {
   "cell_type": "markdown",
   "metadata": {},
   "source": [
    "En el ajuste por mínimos cuadrados hemos creado una función que emplea las siguientes fórmulas para la obtención de la pendiente de la recta de regresión y su ordenada en el origen:\n",
    "                \n",
    "$$ m=\\frac{N S_{xy}-S_x S_y}{N S_{xx}-S_x S_x} $$\n",
    "\n",
    "$$ n=\\frac{S_{xx} S_y-S_x S_{xy}}{N S_{xx}-S_x S_x} $$\n",
    "\n",
    "$$ r=\\frac{N S_{xy}-S_x S_{y}}{\\sqrt{N S_{xx}-S_x S_x}\n",
    "\\sqrt{N S_{yy}-S_y S_y}} $$\n",
    "\n",
    "donde $N$ es el número de muestras, $m$ es la pendiente de la recta de regresión, $n$ la ordenada en el origen de la misma y $r$ el coeficiente de regresión:\n",
    "\n",
    "$$ S_x=\\sum_{i=1}^{N}x_i $$\n",
    "\n",
    "$$ S_{xy}=\\sum_{i=1}^{N}x_i y_i $$\n",
    "\n",
    "En los cálculos posteriores el voltaje obtenido del polímetro corresponde a la variable $x$, y la intensidad a $y$."
   ]
  },
  {
   "cell_type": "code",
   "execution_count": 78,
   "metadata": {},
   "outputs": [],
   "source": [
    "def ajuste(xs,ys): #FUNCIÓN EMPLEADA PARA EL AJUSTE POR MÍINIMOS CUADRADOS\n",
    "    num = len(xs) #numero de datos\n",
    "    sx = np.sum(xs) #sumatoria de los datos de x\n",
    "    sy = np.sum(ys) #sumatoria de los datos de y\n",
    "    sxy = np.sum(xs*ys) #sumatoria de los datos de y por los de x \n",
    "    sxx = np.sum(xs**2)\n",
    "    syy = np.sum(ys**2)\n",
    "    m = (num*sxy-sx*sy)/(num*sxx-sx**2) #pendiente de la recta del ajuste por minimos cuadrados\n",
    "    n = (sxx*sy-sx*sxy)/(num*sxx-sx**2) #ordenada en el origen de la recta del ajuste\n",
    "    r = (num*sxy-sx*sy)/(np.sqrt(num*sxx-sx**2)*np.sqrt(num*syy-sy**2))\n",
    "    return m,n,r \n",
    "    "
   ]
  },
  {
   "cell_type": "markdown",
   "metadata": {},
   "source": [
    "# Resistencia de 220 Ω"
   ]
  },
  {
   "cell_type": "code",
   "execution_count": 79,
   "metadata": {},
   "outputs": [],
   "source": [
    "m220, n220, r220 = ajuste(v220,i220) "
   ]
  },
  {
   "cell_type": "markdown",
   "metadata": {},
   "source": [
    "Introduciendo el voltaje y la intensidad como x e y, respectivamente, en la función del ajuste, obtengo m220, n220 y r220; que son la pendiente, la ordenada en el origen y el coeficiente de regresión de la recta de regresión\n",
    "calculada a partir de las mediciones con la resistencia de 220 Ω."
   ]
  },
  {
   "cell_type": "code",
   "execution_count": 80,
   "metadata": {},
   "outputs": [
    {
     "name": "stdout",
     "output_type": "stream",
     "text": [
      "La pendiente es 0.004554156918349745 S\n",
      "La ordenada en el origen es -0.0005524489407971741 A\n",
      "La resistencia es de 219.57960999779564 ohmios\n",
      "El coeficiente de regresión es 0.9998653168184977\n"
     ]
    }
   ],
   "source": [
    "print(\"La pendiente es {} S\".format(m220))\n",
    "print(\"La ordenada en el origen es {} A\".format(n220))\n",
    "print(\"La resistencia es de {} ohmios\".format(1/m220))\n",
    "print(\"El coeficiente de regresión es {}\".format(r220))\n",
    " #la inversa de la pendiente equivale a la resistencia (esta en kohmios)"
   ]
  },
  {
   "cell_type": "markdown",
   "metadata": {},
   "source": [
    "La unidad de medida de la pendiente es el siemen, que corresponde a la inversa del ohmio, por lo que la resistencia empleada se puede obtener con la inversa de la pendiente. El coeficiente de regresión es muy cercano a 1, lo que nos indica que la recta de regresión es creciente y que es muy precisa."
   ]
  },
  {
   "cell_type": "markdown",
   "metadata": {},
   "source": [
    "### Error en la resistencia"
   ]
  },
  {
   "cell_type": "markdown",
   "metadata": {},
   "source": [
    "En esta práctica podemos considerar que la principal fuente de error está asociada al error instrumental del polímetro, por lo que para cada medida se va a calcular se va el error asociado a la resistencia con la fórmula de propagación del error. Finalmente, se tomará el error máximo de todas las medida como el error en la resistencia:\n",
    "\n",
    "$$\\Delta R= |\\frac{\\partial R}{\\partial V}| \\Delta V + |\\frac{\\partial R}{\\partial I}| \\Delta I = \n",
    "|\\frac{1}{I}| \\Delta V + |\\frac{-V}{I^2}| \\Delta I \n",
    "$$"
   ]
  },
  {
   "cell_type": "code",
   "execution_count": 98,
   "metadata": {},
   "outputs": [
    {
     "name": "stdout",
     "output_type": "stream",
     "text": [
      "El error calculado es de 3.0Ω\n"
     ]
    }
   ],
   "source": [
    "dr220=1/i220*ev220+v220/i220**2*ei220\n",
    "dr220max=round(np.max(dr220))\n",
    "print(\"El error calculado es de {}Ω\".format(dr220max))"
   ]
  },
  {
   "cell_type": "markdown",
   "metadata": {},
   "source": [
    "#### El valor experimental de la resistencia es 220 $\\pm$ 3 $\\Omega$ "
   ]
  },
  {
   "cell_type": "markdown",
   "metadata": {},
   "source": [
    "Gráfica del ajuste sobre las medidas"
   ]
  },
  {
   "cell_type": "code",
   "execution_count": 87,
   "metadata": {},
   "outputs": [
    {
     "data": {
      "image/png": "[encoded data removed]",
      "text/plain": [
       "<Figure size 432x288 with 1 Axes>"
      ]
     },
     "metadata": {
      "needs_background": "light"
     },
     "output_type": "display_data"
    }
   ],
   "source": [
    "xv220=np.linspace(0,10,100) #amplitud del intervalo de las medidas del voltaje\n",
    "yv220=m220*xv220+n220 #recta de regresión: y=mx+n\n",
    "plt.scatter(v220,i220) #representación de las medidas tomadas\n",
    "plt.plot(xv220,yv220,c=\"r\")\n",
    "plt.xlabel(\"Voltaje (V)\")\n",
    "plt.ylabel(\"Intensidad (A)\")\n",
    "plt.grid()\n",
    "plt.title(\"220 Ω\")\n",
    "plt.show()\n",
    "\n"
   ]
  },
  {
   "cell_type": "markdown",
   "metadata": {},
   "source": [
    "# Resistencia de 470 Ω"
   ]
  },
  {
   "cell_type": "markdown",
   "metadata": {},
   "source": [
    "Realizo el mismo proceso que con la de 220Ω, pero esta vez con las medidas tomadas con la resistencia de 470Ω"
   ]
  },
  {
   "cell_type": "code",
   "execution_count": 85,
   "metadata": {},
   "outputs": [
    {
     "name": "stdout",
     "output_type": "stream",
     "text": [
      "La pendiente es 0.0021315972407828254 S\n",
      "La ordenada en el origen es -0.00021875843534240334 A\n",
      "La resistencia es de 469.1317763353605 ohmios\n",
      "El coeficiente de regresión es 0.9997468122024465\n"
     ]
    }
   ],
   "source": [
    "m470, n470, r470 = ajuste(v470,i470)\n",
    "print(\"La pendiente es {} S\".format(m470))\n",
    "print(\"La ordenada en el origen es {} A\".format(n470))\n",
    "print(\"La resistencia es de {} ohmios\".format(1/m470))\n",
    "print(\"El coeficiente de regresión es {}\".format(r470))"
   ]
  },
  {
   "cell_type": "code",
   "execution_count": 99,
   "metadata": {},
   "outputs": [
    {
     "name": "stdout",
     "output_type": "stream",
     "text": [
      "El error calculado es de 6.0Ω\n"
     ]
    }
   ],
   "source": [
    "dr470=1/i470*ev470+v470/i470**2*ei470\n",
    "dr470max=round(np.max(dr470))\n",
    "print(\"El error calculado es de {}Ω\".format(dr470max))"
   ]
  },
  {
   "cell_type": "markdown",
   "metadata": {},
   "source": [
    "#### El valor experimental de la resistencia es 469 $\\pm$ 6 $\\Omega$ "
   ]
  },
  {
   "cell_type": "markdown",
   "metadata": {},
   "source": [
    "Gráfica del ajuste"
   ]
  },
  {
   "cell_type": "code",
   "execution_count": 89,
   "metadata": {},
   "outputs": [
    {
     "data": {
      "image/png": "[encoded data removed]",
      "text/plain": [
       "<Figure size 432x288 with 1 Axes>"
      ]
     },
     "metadata": {
      "needs_background": "light"
     },
     "output_type": "display_data"
    }
   ],
   "source": [
    "xv470=np.linspace(0,10,100) #amplitud del intervalo de las medidas del voltaje (en la recta de regresión)\n",
    "yv470=m470*xv470+n470 #recta de regresión: y=mx+n\n",
    "plt.scatter(v470,i470) #representación de las medidas tomadas\n",
    "plt.plot(xv470,yv470,c=\"r\")\n",
    "plt.xlabel(\"Voltaje (V)\")\n",
    "plt.ylabel(\"Intensidad (A)\")\n",
    "plt.grid()\n",
    "plt.title(\"470 Ω\")\n",
    "plt.show()\n"
   ]
  },
  {
   "cell_type": "markdown",
   "metadata": {},
   "source": [
    "Si se intenta representar el error de las medidas en la gráfica, resulta imposible identificarlo ya que (siguiendo el procedimiento para la obtención de errores que se nos indicó en la sesión de prácticas) este es demasiado pequeño para ser representado en las anteriores gráficas."
   ]
  },
  {
   "cell_type": "markdown",
   "metadata": {},
   "source": [
    "# Conclusión"
   ]
  },
  {
   "cell_type": "markdown",
   "metadata": {},
   "source": [
    "Ambas medidas de las resistencias indican que son conductores lineales, ya que el voltaje y la intensidad aumentan de manera proporcional y lineal. Además, tras realizar la regresión, los valores de resistencia obtenidos son valores que están dentro de la tolerancia indicada en los códigos de colores, por lo que ambos valores son compatibles."
   ]
  },
  {
   "cell_type": "code",
   "execution_count": null,
   "metadata": {},
   "outputs": [],
   "source": []
  }
 ],
 "metadata": {
  "kernelspec": {
   "display_name": "Python 3",
   "language": "python",
   "name": "python3"
  },
  "language_info": {
   "codemirror_mode": {
    "name": "ipython",
    "version": 3
   },
   "file_extension": ".py",
   "mimetype": "text/x-python",
   "name": "python",
   "nbconvert_exporter": "python",
   "pygments_lexer": "ipython3",
   "version": "3.7.0"
  }
 },
 "nbformat": 4,
 "nbformat_minor": 2
}
